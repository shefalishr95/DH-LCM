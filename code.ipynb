{
 "cells": [
  {
   "cell_type": "code",
   "execution_count": 31,
   "id": "cc684124-cff4-40df-85e9-443aa69e9f2b",
   "metadata": {},
   "outputs": [],
   "source": [
    "import pandas as pd\n",
    "import os\n",
    "import numpy as np\n",
    "import matplotlib.pyplot as plt\n",
    "import seaborn as sns\n",
    "sns.set()\n",
    "sns.set_palette(\"pastel\")\n",
    "\n",
    "import missingno as msno\n",
    "from collections import Counter\n",
    "from sklearn.datasets import make_classification\n",
    "from imblearn.under_sampling import RandomUnderSampler\n",
    "\n",
    "from sklearn.cluster import KMeans\n",
    "from sklearn.decomposition import PCA\n",
    "from scipy.linalg import sqrtm\n",
    "import warnings\n",
    "warnings.filterwarnings('ignore')\n",
    "%matplotlib inline\n"
   ]
  },
  {
   "cell_type": "code",
   "execution_count": 1,
   "id": "693d9486-bb65-46ff-b69d-89a8d1237d58",
   "metadata": {},
   "outputs": [
    {
     "data": {
      "text/plain": [
       "['.ipynb_checkpoints',\n",
       " '.vscode',\n",
       " 'DH-LCM_v1.py',\n",
       " 'DHLCM-v1_2.ipynb',\n",
       " 'patient-risk-profiles.zip',\n",
       " 'patient_risk_profiles.csv']"
      ]
     },
     "execution_count": 1,
     "metadata": {},
     "output_type": "execute_result"
    }
   ],
   "source": [
    "os.listdir()"
   ]
  },
  {
   "cell_type": "code",
   "execution_count": 2,
   "id": "16fd3a34-84db-4cf9-95c6-cef6037085c9",
   "metadata": {},
   "outputs": [],
   "source": [
    "df = pd.read_csv(\"patient_risk_profiles.csv\")"
   ]
  },
  {
   "cell_type": "code",
   "execution_count": 3,
   "id": "4e40e67d-31fb-4e9b-ac2b-7722b25c4e7b",
   "metadata": {},
   "outputs": [],
   "source": [
    "df = df.drop(columns=['predicted risk of Pulmonary Embolism', 'predicted risk of Sudden Hearing Loss, No congenital anomaly or middle or inner ear conditions',\n",
    " 'predicted risk of Restless Leg Syndrome',\n",
    " 'predicted risk of Sudden Vision Loss, with no eye pathology causes',\n",
    " 'predicted risk of Muscle weakness or injury',\n",
    " 'predicted risk of Ankylosing Spondylitis',\n",
    " 'predicted risk of Autoimmune hepatitis',\n",
    " 'predicted risk of Multiple Sclerosis',\n",
    " 'predicted risk of Acute pancreatitis, with No chronic or hereditary or common causes of pancreatitis',\n",
    " 'predicted risk of Ulcerative colitis',\n",
    " 'predicted risk of Migraine',\n",
    " 'predicted risk of Dementia',\n",
    " 'predicted risk of  Treatment resistant depression (TRD)',\n",
    " \"predicted risk of Parkinson's disease, inpatient or with 2nd diagnosis\"])"
   ]
  },
  {
   "cell_type": "code",
   "execution_count": 19,
   "id": "f1099455-fee4-4940-81f3-1d88578104c8",
   "metadata": {},
   "outputs": [
    {
     "data": {
      "text/plain": [
       "['personId',\n",
       " 'age group:  10 -  14',\n",
       " 'age group:  15 -  19',\n",
       " 'age group:  20 -  24',\n",
       " 'age group:  65 -  69',\n",
       " 'age group:  40 -  44',\n",
       " 'age group:  45 -  49',\n",
       " 'age group:  55 -  59',\n",
       " 'age group:  85 -  89',\n",
       " 'age group:  75 -  79',\n",
       " 'age group:   5 -   9',\n",
       " 'age group:  25 -  29',\n",
       " 'age group:   0 -   4',\n",
       " 'age group:  70 -  74',\n",
       " 'age group:  50 -  54',\n",
       " 'age group:  60 -  64',\n",
       " 'age group:  35 -  39',\n",
       " 'age group:  30 -  34',\n",
       " 'age group:  80 -  84',\n",
       " 'age group:  90 -  94',\n",
       " 'Sex = FEMALE',\n",
       " 'Sex = MALE',\n",
       " 'Acetaminophen exposures in prior year',\n",
       " 'Occurrence of Alcoholism in prior year',\n",
       " 'Anemia in prior year',\n",
       " 'Angina events in prior year',\n",
       " 'ANTIEPILEPTICS in prior year',\n",
       " 'Occurrence of Anxiety in prior year',\n",
       " 'Osteoarthritis in prior year',\n",
       " 'Aspirin exposures in prior year',\n",
       " 'Occurrence of Asthma in prior year',\n",
       " 'Atrial Fibrillation, incident in prior year',\n",
       " 'HORMONAL CONTRACEPTIVES in prior year',\n",
       " 'Any cancer (excl. prostate cancer and benign cancer) in prior year',\n",
       " 'Acute Kidney Injury (AKI) in prior year',\n",
       " 'Chronic kidney disease or end stage renal disease in prior year',\n",
       " 'Heart failure in prior year',\n",
       " 'Chronic obstructive pulmonary disease (COPD) in prior year',\n",
       " 'Coronary artery disease (CAD) in prior year',\n",
       " 'Major depressive disorder, with NO occurrence of certain psychiatric disorder in prior year',\n",
       " 'Type 1 diabetes and no prior specific non-T1DM diabetes in prior year',\n",
       " 'Type 2 Diabetes Mellitus (DM), with no type 1 or secondary DM in prior year',\n",
       " 'Deep Vein Thrombosis (DVT) in prior year',\n",
       " 'Dyspnea in prior year',\n",
       " 'Edema in prior year',\n",
       " 'Gastroesophageal reflux disease in prior year',\n",
       " 'Acute gastrointestinal (GI) bleeding in prior year',\n",
       " 'Heart valve disorder in prior year',\n",
       " 'Chronic hepatitis in prior year',\n",
       " 'Hyperlipidemia in prior year',\n",
       " 'Hypertension in prior year',\n",
       " 'Hypothyroidism in prior year',\n",
       " 'Inflammatory Bowel Disease in prior year',\n",
       " 'Low back pain in prior year',\n",
       " 'Occurrence of neuropathy in prior year',\n",
       " 'Obesity in prior year',\n",
       " 'Opioids in prior year',\n",
       " 'Osteoporosis in prior year',\n",
       " 'Peripheral vascular disease in prior year',\n",
       " 'Pneumonia in prior year',\n",
       " 'Psychotic disorder in prior year',\n",
       " 'Acute Respiratory failure in prior year',\n",
       " 'Rheumatoid Arthritis in prior year',\n",
       " 'Seizure in prior year',\n",
       " 'Sepsis in prior year',\n",
       " 'Skin ulcer in prior year',\n",
       " 'Sleep apnea in prior year',\n",
       " 'Smoking in prior year',\n",
       " 'STEROIDS in prior year',\n",
       " 'Hemorrhagic stroke in an inpatient setting in prior year',\n",
       " 'Non-hemorrhagic Stroke in an inpatient setting in prior year',\n",
       " 'Urinary tract infectious disease in prior year',\n",
       " 'Antibiotics Carbapenems in prior year',\n",
       " 'Antibiotics Aminoglycosides in prior year',\n",
       " 'Antibiotics Cephalosporins in prior year',\n",
       " 'Antibiotics Fluoroquinolones in prior year',\n",
       " 'Antibiotics Glycopeptides and lipoglycopeptides in prior year',\n",
       " 'Antibiotics Macrolides in prior year',\n",
       " 'Antibiotics Monobactams in prior year',\n",
       " 'Antibiotics Oxazolidinones in prior year',\n",
       " 'Antibiotics Penicillins in prior year',\n",
       " 'Antibiotics Polypeptides in prior year',\n",
       " 'Antibiotics Rifamycins in prior year',\n",
       " 'Antibiotics Sulfonamides in prior year',\n",
       " 'Antibiotics Streptogramins in prior year',\n",
       " 'Antibiotics Tetracyclines in prior year']"
      ]
     },
     "execution_count": 41,
     "metadata": {},
     "output_type": "execute_result"
    }
   ],
   "source": [
    "df.columns.tolist()"
   ]
  },
  {
   "cell_type": "code",
   "execution_count": 4,
   "id": "1c797b9d-e357-4fef-8e51-a2e3097503bb",
   "metadata": {},
   "outputs": [],
   "source": [
    "col = df[['Sex = FEMALE', 'Sex = MALE']]\n",
    "col\n",
    "\n",
    "condition = (df['Sex = FEMALE'] == 0) & (df['Sex = MALE'] == 1) | (df['Sex = FEMALE'] == 1) & (df['Sex = MALE'] == 0) \n",
    "\n"
   ]
  },
  {
   "cell_type": "code",
   "execution_count": 7,
   "id": "187c3edf-f3e9-47b9-826b-1b7f72481c8d",
   "metadata": {},
   "outputs": [
    {
     "name": "stdout",
     "output_type": "stream",
     "text": [
      "0\n"
     ]
    }
   ],
   "source": [
    "false_rows = df[~condition]\n",
    "\n",
    "# Print the rows where the condition is False\n",
    "print(len(false_rows))"
   ]
  },
  {
   "cell_type": "code",
   "execution_count": 6,
   "id": "805cd54a-98b1-4027-9294-e6ae82c11e3f",
   "metadata": {},
   "outputs": [],
   "source": [
    "df = df.drop(index=false_rows.index)"
   ]
  },
  {
   "cell_type": "code",
   "execution_count": 8,
   "id": "60f74372-7907-4249-a036-fa4ba1498050",
   "metadata": {},
   "outputs": [
    {
     "data": {
      "image/png": "[encoded data removed]",
      "text/plain": [
       "<Figure size 640x480 with 1 Axes>"
      ]
     },
     "metadata": {},
     "output_type": "display_data"
    }
   ],
   "source": [
    "sns.countplot(data=df, x='Heart failure in prior year')\n",
    "plt.title('Distribution of Heart failure in prior year')\n",
    "plt.xlabel('Heart failure (0: No, 1: Yes)')\n",
    "plt.ylabel('Frequency')\n",
    "plt.show()"
   ]
  },
  {
   "cell_type": "code",
   "execution_count": 9,
   "id": "f09af0bf-d1d3-4df8-aea5-7e76c1d1a188",
   "metadata": {},
   "outputs": [],
   "source": [
    "df_X = df.drop(columns=['Heart failure in prior year','personId'])\n",
    "df_Y = df['Heart failure in prior year'].astype(int)\n"
   ]
  },
  {
   "cell_type": "code",
   "execution_count": 27,
   "id": "83e2be71-880f-48ca-9a95-a3f9c85759a3",
   "metadata": {},
   "outputs": [
    {
     "name": "stdout",
     "output_type": "stream",
     "text": [
      "Original dataset shape Counter({0: 23, 1: 23})\n"
     ]
    }
   ],
   "source": [
    "print('Original dataset shape %s' % Counter(df_Y))"
   ]
  },
  {
   "cell_type": "code",
   "execution_count": 26,
   "id": "6c675113-698d-4537-ad96-398b3d50118b",
   "metadata": {},
   "outputs": [],
   "source": [
    "rus = RandomUnderSampler(random_state=1313)\n",
    "df_X_rus, df_Y_rus =rus.fit_resample(df_X, df_Y)"
   ]
  },
  {
   "cell_type": "code",
   "execution_count": 29,
   "id": "4845eda6-ba40-43ac-ac11-0df473395c37",
   "metadata": {},
   "outputs": [
    {
     "name": "stdout",
     "output_type": "stream",
     "text": [
      "Resampled dataset shape Counter({0: 23, 1: 23})\n"
     ]
    }
   ],
   "source": [
    "print('Resampled dataset shape %s' % Counter(df_Y_rus))"
   ]
  },
  {
   "cell_type": "code",
   "execution_count": null,
   "id": "34476bd0-a0a4-4f5e-a2a1-4433cb789763",
   "metadata": {},
   "outputs": [],
   "source": []
  },
  {
   "cell_type": "code",
   "execution_count": 34,
   "id": "5c972d8d-4d61-4f9f-a462-93345cf9476d",
   "metadata": {},
   "outputs": [],
   "source": [
    "def hetero_clustering(df_X_rus, K,TO):\n",
    "    R = df_X_rus.to_numpy()\n",
    "    \n",
    "    Ub = hetero_pca(R, K, TO)\n",
    "    \n",
    "    Ue = np.diag(1/np.linalg.norm(Ub, axis=1)) @ Ub\n",
    "    \n",
    "    kmeans = KMeans(n_clusters=K)\n",
    "    \n",
    "    bs = kmeans.fit_predict(Ue)\n",
    "    \n",
    "    Theta = estimate_theta(R, bs, K)\n",
    "    \n",
    "    return bs, Theta\n",
    "\n",
    "\n",
    "def hetero_pca(R, K, T0):\n",
    "    M = R @ R.T\n",
    "    \n",
    "    for _ in range(T0):\n",
    "        U, s, Vh = np.linalg.svd(M, full_matrices=False)\n",
    "        M = np.dot(U[:,:K], np.dot(np.diag(s[:K]), Vh[:K, :]))  \n",
    "        \n",
    "        M = 0.5 * (M + M.T)\n",
    "\n",
    "    Uc = np.linalg.eigh(M)[1][:, ::-1][:, :K]\n",
    "    return Uc\n",
    "\n",
    "                                             \n",
    "def estimate_theta(R, labels, K):\n",
    "    Theta = np.zeros((R.shape[1], K))\n",
    "    \n",
    "    for k in range(K):\n",
    "        cluster_samples = R[labels == k]\n",
    "        avg_sample = np.mean(cluster_samples, axis=0)\n",
    "        # Correct for degree effects if necessary\n",
    "        # For example, you can apply some form of normalization here if needed\n",
    "        Theta[:, k] = avg_sample\n",
    "    \n",
    "    return Theta"
   ]
  },
  {
   "cell_type": "code",
   "execution_count": 38,
   "id": "e24ffd0d-39e4-45b5-b231-1506b72c502e",
   "metadata": {},
   "outputs": [
    {
     "name": "stdout",
     "output_type": "stream",
     "text": [
      "Cluster Assignments: [0 0 0 1 0 0 0 0 1 1 0 0 1 0 1 0 0 0 1 1 1 0 0 0 1 0 1 1 0 0 0 0 0 0 0 0 0\n",
      " 1 1 0 1 0 0 0 0 0]\n",
      "Cluster Parameters:\n",
      " [[0.03125    0.14285714]\n",
      " [0.         0.07142857]\n",
      " [0.125      0.07142857]\n",
      " [0.         0.07142857]\n",
      " [0.         0.        ]\n",
      " [0.0625     0.        ]\n",
      " [0.0625     0.21428571]\n",
      " [0.0625     0.        ]\n",
      " [0.09375    0.21428571]\n",
      " [0.         0.07142857]\n",
      " [0.09375    0.        ]\n",
      " [0.03125    0.07142857]\n",
      " [0.         0.07142857]\n",
      " [0.03125    0.        ]\n",
      " [0.125      0.        ]\n",
      " [0.09375    0.        ]\n",
      " [0.03125    0.        ]\n",
      " [0.09375    0.        ]\n",
      " [0.0625     0.        ]\n",
      " [0.         0.92857143]\n",
      " [1.         0.07142857]\n",
      " [0.03125    0.14285714]\n",
      " [0.0625     0.14285714]\n",
      " [0.25       0.35714286]\n",
      " [0.09375    0.21428571]\n",
      " [0.1875     0.        ]\n",
      " [0.0625     0.14285714]\n",
      " [0.125      0.28571429]\n",
      " [0.28125    0.21428571]\n",
      " [0.09375    0.21428571]\n",
      " [0.25       0.07142857]\n",
      " [0.21875    0.07142857]\n",
      " [0.125      0.07142857]\n",
      " [0.125      0.14285714]\n",
      " [0.125      0.07142857]\n",
      " [0.09375    0.07142857]\n",
      " [0.21875    0.07142857]\n",
      " [0.0625     0.21428571]\n",
      " [0.15625    0.14285714]\n",
      " [0.03125    0.07142857]\n",
      " [0.28125    0.14285714]\n",
      " [0.09375    0.14285714]\n",
      " [0.1875     0.35714286]\n",
      " [0.3125     0.21428571]\n",
      " [0.15625    0.07142857]\n",
      " [0.21875    0.28571429]\n",
      " [0.21875    0.14285714]\n",
      " [0.125      0.14285714]\n",
      " [0.125      0.28571429]\n",
      " [0.21875    0.07142857]\n",
      " [0.1875     0.21428571]\n",
      " [0.125      0.28571429]\n",
      " [0.15625    0.21428571]\n",
      " [0.1875     0.14285714]\n",
      " [0.0625     0.21428571]\n",
      " [0.0625     0.28571429]\n",
      " [0.25       0.28571429]\n",
      " [0.09375    0.28571429]\n",
      " [0.21875    0.42857143]\n",
      " [0.25       0.07142857]\n",
      " [0.15625    0.14285714]\n",
      " [0.15625    0.28571429]\n",
      " [0.0625     0.21428571]\n",
      " [0.1875     0.28571429]\n",
      " [0.21875    0.14285714]\n",
      " [0.1875     0.14285714]\n",
      " [0.1875     0.14285714]\n",
      " [0.25       0.14285714]\n",
      " [0.15625    0.14285714]\n",
      " [0.0625     0.21428571]\n",
      " [0.15625    0.        ]\n",
      " [0.15625    0.07142857]\n",
      " [0.0625     0.28571429]\n",
      " [0.125      0.07142857]\n",
      " [0.25       0.        ]\n",
      " [0.15625    0.35714286]\n",
      " [0.21875    0.07142857]\n",
      " [0.21875    0.07142857]\n",
      " [0.125      0.28571429]\n",
      " [0.15625    0.35714286]\n",
      " [0.21875    0.35714286]\n",
      " [0.1875     0.14285714]\n",
      " [0.15625    0.28571429]\n",
      " [0.09375    0.07142857]]\n"
     ]
    }
   ],
   "source": [
    "# Assuming df_X_rus is your dataset DataFrame and TO is the desired number of iterations for PCA\n",
    "K = 2  # Number of clusters\n",
    "TO = 100  # Number of iterations for PCA\n",
    "\n",
    "# Call the hetero_clustering function to find 2 clusters\n",
    "cluster_assignments, cluster_parameters = hetero_clustering(df_X_rus, K, TO)\n",
    "\n",
    "# Output cluster assignments and parameters\n",
    "print(\"Cluster Assignments:\", cluster_assignments)\n",
    "print(\"Cluster Parameters:\\n\", cluster_parameters)\n"
   ]
  },
  {
   "cell_type": "code",
   "execution_count": 36,
   "id": "cb02681d-01e4-4241-b844-18767ad870b2",
   "metadata": {},
   "outputs": [
    {
     "name": "stdout",
     "output_type": "stream",
     "text": [
      "Adjusted Rand Index (ARI): -0.011474076294044611\n"
     ]
    }
   ],
   "source": [
    "# Assuming df_Y_rus contains the true labels\n",
    "\n",
    "# Step 1: Get cluster assignments\n",
    "cluster_assignments, _ = hetero_clustering(df_X_rus, K, TO)\n",
    "\n",
    "# Step 2: Get true labels from df_Y_rus\n",
    "true_labels = df_Y_rus.values.flatten()  # Assuming df_Y_rus is a single-column DataFrame or a Series\n",
    "\n",
    "# Step 3: Compare cluster assignments to true labels\n",
    "from sklearn.metrics import adjusted_rand_score\n",
    "\n",
    "ari = adjusted_rand_score(true_labels, cluster_assignments)\n",
    "print(\"Adjusted Rand Index (ARI):\", ari)\n"
   ]
  },
  {
   "cell_type": "code",
   "execution_count": 42,
   "id": "fa4c5dae-0408-4bc1-b00f-77b8ff541a4e",
   "metadata": {},
   "outputs": [
    {
     "name": "stdout",
     "output_type": "stream",
     "text": [
      "Cluster Assignments: [0 0 0 1 0 0 0 0 1 1 0 0 1 0 1 0 0 0 1 1 1 0 0 0 1 0 1 1 0 0 0 0 0 0 0 0 0\n",
      " 1 1 0 1 0 0 0 0 0]\n",
      "0     0\n",
      "1     0\n",
      "2     0\n",
      "3     0\n",
      "4     0\n",
      "5     0\n",
      "6     0\n",
      "7     0\n",
      "8     0\n",
      "9     0\n",
      "10    0\n",
      "11    0\n",
      "12    0\n",
      "13    0\n",
      "14    0\n",
      "15    0\n",
      "16    0\n",
      "17    0\n",
      "18    0\n",
      "19    0\n",
      "20    0\n",
      "21    0\n",
      "22    0\n",
      "23    1\n",
      "24    1\n",
      "25    1\n",
      "26    1\n",
      "27    1\n",
      "28    1\n",
      "29    1\n",
      "30    1\n",
      "31    1\n",
      "32    1\n",
      "33    1\n",
      "34    1\n",
      "35    1\n",
      "36    1\n",
      "37    1\n",
      "38    1\n",
      "39    1\n",
      "40    1\n",
      "41    1\n",
      "42    1\n",
      "43    1\n",
      "44    1\n",
      "45    1\n",
      "Name: Heart failure in prior year, dtype: int32\n"
     ]
    }
   ],
   "source": [
    "print(\"Cluster Assignments:\", cluster_assignments)\n",
    "print(df_Y_rus)"
   ]
  }
 ],
 "metadata": {
  "kernelspec": {
   "display_name": "Python 3 (ipykernel)",
   "language": "python",
   "name": "python3"
  },
  "language_info": {
   "codemirror_mode": {
    "name": "ipython",
    "version": 3
   },
   "file_extension": ".py",
   "mimetype": "text/x-python",
   "name": "python",
   "nbconvert_exporter": "python",
   "pygments_lexer": "ipython3",
   "version": "3.10.9"
  }
 },
 "nbformat": 4,
 "nbformat_minor": 5
}
